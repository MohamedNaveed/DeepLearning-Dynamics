{
 "cells": [
  {
   "cell_type": "code",
   "execution_count": 1,
   "id": "f5a5d363-a36c-47d2-b851-b15a47a04384",
   "metadata": {},
   "outputs": [],
   "source": [
    "#Pytorch Tutorial using Jupyter notebook "
   ]
  },
  {
   "cell_type": "code",
   "execution_count": 13,
   "id": "d8c04dd0-602d-4b37-81aa-f3c8f13b22e8",
   "metadata": {},
   "outputs": [],
   "source": [
    "import torch \n",
    "from torch import nn\n",
    "from torch.utils.data import DataLoader\n",
    "from torchvision import datasets\n",
    "from torchvision.transforms import ToTensor"
   ]
  },
  {
   "cell_type": "code",
   "execution_count": 21,
   "id": "a8a638cf-c74c-4abd-b5e5-7c8a1aae4f90",
   "metadata": {},
   "outputs": [],
   "source": [
    "training_data = datasets.FashionMNIST(\n",
    "    root = \"data\",\n",
    "    train = True,\n",
    "    download = True,\n",
    "    transform = ToTensor(),\n",
    ")\n",
    "\n",
    "test_data = datasets.FashionMNIST(\n",
    "    root = \"data\",\n",
    "    train = False,\n",
    "    download = True,\n",
    "    transform = ToTensor(),\n",
    ")"
   ]
  },
  {
   "cell_type": "code",
   "execution_count": 22,
   "id": "7de036f8-e5b1-4bd5-ad4c-bb28467c9372",
   "metadata": {},
   "outputs": [
    {
     "name": "stdout",
     "output_type": "stream",
     "text": [
      "Dataset FashionMNIST\n",
      "    Number of datapoints: 60000\n",
      "    Root location: data\n",
      "    Split: Train\n",
      "    StandardTransform\n",
      "Transform: ToTensor()\n"
     ]
    }
   ],
   "source": [
    "print(training_data)"
   ]
  },
  {
   "cell_type": "code",
   "execution_count": 23,
   "id": "fc44b5ee-3d7f-4dd9-8028-d0ee20ab753c",
   "metadata": {},
   "outputs": [
    {
     "name": "stdout",
     "output_type": "stream",
     "text": [
      "Shape of X [N, C, H, W]: torch.Size([64, 1, 28, 28])\n",
      "Shape of y: torch.Size([64]) torch.int64\n",
      "Using cuda device\n"
     ]
    }
   ],
   "source": [
    "batch_size = 64\n",
    "\n",
    "#create data loaders\n",
    "train_dataloader = DataLoader(training_data, batch_size=batch_size)\n",
    "test_dataloader = DataLoader(test_data, batch_size=batch_size)\n",
    "\n",
    "for X, y in test_dataloader:\n",
    "    print(f\"Shape of X [N, C, H, W]: {X.shape}\")\n",
    "    print(f\"Shape of y: {y.shape} {y.dtype}\")\n",
    "    break    \n",
    "\n",
    "device = (\"cuda\"\n",
    "        if torch.cuda.is_available()\n",
    "        else \"mps\"\n",
    "        if torch.backends.mps.is_available()\n",
    "        else \"cpu\")\n",
    "\n",
    "print(f\"Using {device} device\")"
   ]
  },
  {
   "cell_type": "code",
   "execution_count": 16,
   "id": "30237e97-eb91-424f-bfec-301333976537",
   "metadata": {},
   "outputs": [
    {
     "name": "stdout",
     "output_type": "stream",
     "text": [
      "y tensor([9, 2, 1, 1, 6, 1, 4, 6, 5, 7, 4, 5, 7, 3, 4, 1, 2, 4, 8, 0, 2, 5, 7, 9,\n",
      "        1, 4, 6, 0, 9, 3, 8, 8, 3, 3, 8, 0, 7, 5, 7, 9, 6, 1, 3, 7, 6, 7, 2, 1,\n",
      "        2, 2, 4, 4, 5, 8, 2, 2, 8, 4, 8, 0, 7, 7, 8, 5])\n"
     ]
    }
   ],
   "source": [
    "print(\"y\", y)"
   ]
  },
  {
   "cell_type": "code",
   "execution_count": 17,
   "id": "90cb0955-4c54-4576-a674-17f06ee91d94",
   "metadata": {},
   "outputs": [
    {
     "name": "stdout",
     "output_type": "stream",
     "text": [
      "NeuralNetwork(\n",
      "  (flatten): Flatten(start_dim=1, end_dim=-1)\n",
      "  (linear_relu_stack): Sequential(\n",
      "    (0): Linear(in_features=784, out_features=512, bias=True)\n",
      "    (1): ReLU()\n",
      "    (2): Linear(in_features=512, out_features=512, bias=True)\n",
      "    (3): ReLU()\n",
      "    (4): Linear(in_features=512, out_features=10, bias=True)\n",
      "  )\n",
      ")\n"
     ]
    }
   ],
   "source": [
    "# Define model\n",
    "class NeuralNetwork(nn.Module):\n",
    "    def __init__(self):\n",
    "        super().__init__()\n",
    "        self.flatten = nn.Flatten()\n",
    "        self.linear_relu_stack = nn.Sequential(\n",
    "            nn.Linear(28*28, 512),\n",
    "            nn.ReLU(),\n",
    "            nn.Linear(512, 512),\n",
    "            nn.ReLU(),\n",
    "            nn.Linear(512, 10)\n",
    "        )\n",
    "\n",
    "    def forward(self, x):\n",
    "        x = self.flatten(x)\n",
    "        logits = self.linear_relu_stack(x)\n",
    "        return logits\n",
    "\n",
    "model = NeuralNetwork().to(device)\n",
    "print(model)"
   ]
  },
  {
   "cell_type": "code",
   "execution_count": 18,
   "id": "467f7a7e-bea1-4cd6-9f36-4113074429ef",
   "metadata": {},
   "outputs": [],
   "source": [
    "loss_fn = nn.CrossEntropyLoss()\n",
    "optimizer = torch.optim.SGD(model.parameters(), lr=1e-3)"
   ]
  },
  {
   "cell_type": "code",
   "execution_count": 19,
   "id": "c23f8fb6-f155-4868-ae3a-6986bd1943c1",
   "metadata": {},
   "outputs": [],
   "source": [
    "def train(dataloader, model, loss_fn, optimizer):\n",
    "    size = len(dataloader.dataset)\n",
    "    model.train()\n",
    "    for batch, (X, y) in enumerate(dataloader):\n",
    "        X, y = X.to(device), y.to(device)\n",
    "\n",
    "        # Compute prediction error\n",
    "        pred = model(X)\n",
    "        loss = loss_fn(pred, y)\n",
    "\n",
    "        # Backpropagation\n",
    "        loss.backward()\n",
    "        optimizer.step()\n",
    "        optimizer.zero_grad()\n",
    "\n",
    "        if batch % 100 == 0:\n",
    "            loss, current = loss.item(), (batch + 1) * len(X)\n",
    "            print(f\"loss: {loss:>7f}  [{current:>5d}/{size:>5d}]\")\n",
    "\n",
    "def test(dataloader, model, loss_fn):\n",
    "    size = len(dataloader.dataset)\n",
    "    num_batches = len(dataloader)\n",
    "    model.eval()\n",
    "    test_loss, correct = 0, 0\n",
    "    with torch.no_grad():\n",
    "        for X, y in dataloader:\n",
    "            X, y = X.to(device), y.to(device)\n",
    "            pred = model(X)\n",
    "            test_loss += loss_fn(pred, y).item()\n",
    "            correct += (pred.argmax(1) == y).type(torch.float).sum().item()\n",
    "    test_loss /= num_batches\n",
    "    correct /= size\n",
    "    print(f\"Test Error: \\n Accuracy: {(100*correct):>0.1f}%, Avg loss: {test_loss:>8f} \\n\")\n"
   ]
  },
  {
   "cell_type": "code",
   "execution_count": 20,
   "id": "b368bd91-b577-404a-b12f-e79812e29006",
   "metadata": {},
   "outputs": [
    {
     "name": "stdout",
     "output_type": "stream",
     "text": [
      "Epoch 1\n",
      "-------------------------------\n",
      "loss: 2.296355  [   64/60000]\n",
      "loss: 2.291717  [ 6464/60000]\n",
      "loss: 2.268797  [12864/60000]\n",
      "loss: 2.269054  [19264/60000]\n",
      "loss: 2.245813  [25664/60000]\n",
      "loss: 2.223550  [32064/60000]\n",
      "loss: 2.229988  [38464/60000]\n",
      "loss: 2.191213  [44864/60000]\n",
      "loss: 2.188797  [51264/60000]\n",
      "loss: 2.166856  [57664/60000]\n",
      "Test Error: \n",
      " Accuracy: 41.8%, Avg loss: 2.152921 \n",
      "\n",
      "Epoch 2\n",
      "-------------------------------\n",
      "loss: 2.158227  [   64/60000]\n",
      "loss: 2.157136  [ 6464/60000]\n",
      "loss: 2.096250  [12864/60000]\n",
      "loss: 2.116490  [19264/60000]\n",
      "loss: 2.061970  [25664/60000]\n",
      "loss: 2.010025  [32064/60000]\n",
      "loss: 2.038165  [38464/60000]\n",
      "loss: 1.955028  [44864/60000]\n",
      "loss: 1.961029  [51264/60000]\n",
      "loss: 1.903207  [57664/60000]\n",
      "Test Error: \n",
      " Accuracy: 53.4%, Avg loss: 1.888989 \n",
      "\n",
      "Epoch 3\n",
      "-------------------------------\n",
      "loss: 1.916363  [   64/60000]\n",
      "loss: 1.891439  [ 6464/60000]\n",
      "loss: 1.773930  [12864/60000]\n",
      "loss: 1.820958  [19264/60000]\n",
      "loss: 1.704666  [25664/60000]\n",
      "loss: 1.671180  [32064/60000]\n",
      "loss: 1.691863  [38464/60000]\n",
      "loss: 1.590600  [44864/60000]\n",
      "loss: 1.612135  [51264/60000]\n",
      "loss: 1.522395  [57664/60000]\n",
      "Test Error: \n",
      " Accuracy: 59.8%, Avg loss: 1.529364 \n",
      "\n",
      "Epoch 4\n",
      "-------------------------------\n",
      "loss: 1.587076  [   64/60000]\n",
      "loss: 1.558869  [ 6464/60000]\n",
      "loss: 1.410271  [12864/60000]\n",
      "loss: 1.486349  [19264/60000]\n",
      "loss: 1.363954  [25664/60000]\n",
      "loss: 1.370423  [32064/60000]\n",
      "loss: 1.379721  [38464/60000]\n",
      "loss: 1.305091  [44864/60000]\n",
      "loss: 1.332710  [51264/60000]\n",
      "loss: 1.242420  [57664/60000]\n",
      "Test Error: \n",
      " Accuracy: 62.5%, Avg loss: 1.264955 \n",
      "\n",
      "Epoch 5\n",
      "-------------------------------\n",
      "loss: 1.335702  [   64/60000]\n",
      "loss: 1.322106  [ 6464/60000]\n",
      "loss: 1.157881  [12864/60000]\n",
      "loss: 1.264587  [19264/60000]\n",
      "loss: 1.137790  [25664/60000]\n",
      "loss: 1.168787  [32064/60000]\n",
      "loss: 1.186281  [38464/60000]\n",
      "loss: 1.124841  [44864/60000]\n",
      "loss: 1.155307  [51264/60000]\n",
      "loss: 1.075585  [57664/60000]\n",
      "Test Error: \n",
      " Accuracy: 64.2%, Avg loss: 1.097591 \n",
      "\n",
      "Done!\n"
     ]
    }
   ],
   "source": [
    "epochs = 5\n",
    "for t in range(epochs):\n",
    "    print(f\"Epoch {t+1}\\n-------------------------------\")\n",
    "    train(train_dataloader, model, loss_fn, optimizer)\n",
    "    test(test_dataloader, model, loss_fn)\n",
    "print(\"Done!\")"
   ]
  },
  {
   "cell_type": "code",
   "execution_count": 9,
   "id": "3bcd1b1f-de5a-4daf-8b63-0e102bd8bbf1",
   "metadata": {},
   "outputs": [
    {
     "name": "stdout",
     "output_type": "stream",
     "text": [
      "Saved PyTorch Model State to model.pth\n"
     ]
    }
   ],
   "source": [
    "torch.save(model.state_dict(), \"model.pth\")\n",
    "print(\"Saved PyTorch Model State to model.pth\")"
   ]
  },
  {
   "cell_type": "code",
   "execution_count": null,
   "id": "9e33ffc5-0e8e-4357-a26c-1c1da461d4d1",
   "metadata": {},
   "outputs": [],
   "source": []
  }
 ],
 "metadata": {
  "kernelspec": {
   "display_name": "Python 3 (ipykernel)",
   "language": "python",
   "name": "python3"
  },
  "language_info": {
   "codemirror_mode": {
    "name": "ipython",
    "version": 3
   },
   "file_extension": ".py",
   "mimetype": "text/x-python",
   "name": "python",
   "nbconvert_exporter": "python",
   "pygments_lexer": "ipython3",
   "version": "3.10.12"
  }
 },
 "nbformat": 4,
 "nbformat_minor": 5
}
