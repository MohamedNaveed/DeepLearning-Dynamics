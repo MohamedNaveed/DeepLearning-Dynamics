{
 "cells": [
  {
   "cell_type": "code",
   "execution_count": 1,
   "id": "86569565-f873-4b96-8662-41441398e434",
   "metadata": {},
   "outputs": [],
   "source": [
    "import torch \n",
    "from torch import nn\n",
    "from torch.utils.data import DataLoader, TensorDataset\n",
    "from torchvision import datasets\n",
    "from torchvision.transforms import ToTensor\n",
    "\n",
    "import pandas as pd\n",
    "from sklearn.model_selection import train_test_split"
   ]
  },
  {
   "cell_type": "code",
   "execution_count": 2,
   "id": "87971faa-caf6-4584-ac80-9f34911a4d92",
   "metadata": {},
   "outputs": [
    {
     "name": "stdout",
     "output_type": "stream",
     "text": [
      "Using cuda device\n"
     ]
    }
   ],
   "source": [
    "device = (\"cuda\"\n",
    "        if torch.cuda.is_available()\n",
    "        else \"mps\"\n",
    "        if torch.backends.mps.is_available()\n",
    "        else \"cpu\")\n",
    "\n",
    "print(f\"Using {device} device\")"
   ]
  },
  {
   "cell_type": "code",
   "execution_count": 14,
   "id": "d70fd0c5-3a11-42b2-bada-b78a31574ea6",
   "metadata": {},
   "outputs": [],
   "source": [
    "# Define model\n",
    "class MLP(nn.Module):\n",
    "    def __init__(self):\n",
    "        super().__init__()\n",
    "        self.flatten = nn.Flatten()\n",
    "        self.linear_relu_stack = nn.Sequential(\n",
    "            nn.Linear(2, 512),\n",
    "            nn.ReLU(),\n",
    "            nn.Linear(512, 512),\n",
    "            nn.ReLU(),\n",
    "            nn.Linear(512, 2)\n",
    "        )\n",
    "\n",
    "    def forward(self, x):\n",
    "        x = self.flatten(x)\n",
    "        logits = self.linear_relu_stack(x)\n",
    "        return logits\n",
    "\n"
   ]
  },
  {
   "cell_type": "code",
   "execution_count": 15,
   "id": "9f5ed472-9e08-47a6-a398-f873697f1861",
   "metadata": {},
   "outputs": [],
   "source": [
    "class ResNet(MLP):\n",
    "    def __init__(self):\n",
    "        super().__init__()\n",
    "\n",
    "    def forward(self, x):\n",
    "        x = self.flatten(x)\n",
    "        logits = self.linear_relu_stack(x) + x\n",
    "        return logits"
   ]
  },
  {
   "cell_type": "code",
   "execution_count": 16,
   "id": "61a5b4a4-a18e-47eb-a095-78fa613e1f02",
   "metadata": {},
   "outputs": [
    {
     "name": "stdout",
     "output_type": "stream",
     "text": [
      "ResNet(\n",
      "  (flatten): Flatten(start_dim=1, end_dim=-1)\n",
      "  (linear_relu_stack): Sequential(\n",
      "    (0): Linear(in_features=2, out_features=512, bias=True)\n",
      "    (1): ReLU()\n",
      "    (2): Linear(in_features=512, out_features=512, bias=True)\n",
      "    (3): ReLU()\n",
      "    (4): Linear(in_features=512, out_features=2, bias=True)\n",
      "  )\n",
      ")\n"
     ]
    }
   ],
   "source": [
    "model = ResNet().to(device)\n",
    "print(model)"
   ]
  },
  {
   "cell_type": "code",
   "execution_count": 17,
   "id": "0e7cd3b6-d5a4-44a3-b2b3-cedc2c9dfda4",
   "metadata": {},
   "outputs": [
    {
     "name": "stdout",
     "output_type": "stream",
     "text": [
      "   Pendulum Angle (rad)  Angular Velocity (rad/s)  Pendulum Angle next (rad)  \\\n",
      "0              1.292684                  0.000000                   1.292636   \n",
      "1              1.292636                 -0.009616                   1.292492   \n",
      "2              1.292492                 -0.019231                   1.292252   \n",
      "3              1.292252                 -0.028846                   1.291915   \n",
      "4              1.291915                 -0.038460                   1.291483   \n",
      "\n",
      "   Angular Velocity next (rad/s)  \n",
      "0                      -0.009616  \n",
      "1                      -0.019231  \n",
      "2                      -0.028846  \n",
      "3                      -0.038460  \n",
      "4                      -0.048073  \n"
     ]
    }
   ],
   "source": [
    "if __name__ == \"__main__\":\n",
    "    exp_name = 'near90deg/'\n",
    "    data = pd.read_csv('../data/pendulum_exps/'+exp_name+'traindata.csv')\n",
    "    dim = 2\n",
    "    print(data.head()) "
   ]
  },
  {
   "cell_type": "code",
   "execution_count": 18,
   "id": "ebf352a3-6bf7-4cbe-bc07-5c0a403aa09e",
   "metadata": {},
   "outputs": [
    {
     "name": "stdout",
     "output_type": "stream",
     "text": [
      "[1.2926844 0.       ] [ 1.29263633 -0.00961571]\n"
     ]
    }
   ],
   "source": [
    "    # Extract input features (X) and target labels (y)\n",
    "    X = data[['Pendulum Angle (rad)', 'Angular Velocity (rad/s)']].values  # Input features\n",
    "    y = data[['Pendulum Angle next (rad)', 'Angular Velocity next (rad/s)']].values  # Target labels\n",
    "    \n",
    "    print(X[0],y[0])"
   ]
  },
  {
   "cell_type": "code",
   "execution_count": 19,
   "id": "61efd1e1-a64b-427b-ba56-3671716fec4d",
   "metadata": {},
   "outputs": [
    {
     "name": "stdout",
     "output_type": "stream",
     "text": [
      "Size of training =  79920\n",
      "Size of testing =  19980\n"
     ]
    }
   ],
   "source": [
    "    # Split the data into training and testing sets (80% train, 20% test)\n",
    "    X_train, X_test, y_train, y_test = train_test_split(X, y, test_size=0.2, random_state=42)\n",
    "    print('Size of training = ', X_train.shape[0]);\n",
    "    print('Size of testing = ', X_test.shape[0]);"
   ]
  },
  {
   "cell_type": "code",
   "execution_count": 20,
   "id": "c54df9a9-088e-4cde-a703-c0c2b411b690",
   "metadata": {},
   "outputs": [],
   "source": [
    "    # Convert NumPy arrays to PyTorch tensors\n",
    "    X_train_tensor = torch.tensor(X_train, dtype=torch.float32)\n",
    "    y_train_tensor = torch.tensor(y_train, dtype=torch.float32)\n",
    "    X_test_tensor = torch.tensor(X_test, dtype=torch.float32)\n",
    "    y_test_tensor = torch.tensor(y_test, dtype=torch.float32)\n"
   ]
  },
  {
   "cell_type": "code",
   "execution_count": 21,
   "id": "324ed880-62b0-42ee-a2b1-3a017dd74869",
   "metadata": {},
   "outputs": [],
   "source": [
    "    # Create PyTorch datasets and dataloaders\n",
    "    train_dataset = TensorDataset(X_train_tensor, y_train_tensor)\n",
    "    train_dataloader = DataLoader(train_dataset, batch_size=32, shuffle=True)\n",
    "    test_dataset = TensorDataset(X_test_tensor, y_test_tensor)\n",
    "    test_dataloader = DataLoader(test_dataset, batch_size=32, shuffle=False)"
   ]
  },
  {
   "cell_type": "code",
   "execution_count": 22,
   "id": "341061c1-5fd8-4f80-a059-bd4e9913642b",
   "metadata": {},
   "outputs": [],
   "source": [
    "    criterion = nn.MSELoss()\n",
    "    optimizer = torch.optim.Adam(model.parameters(), lr=0.001)"
   ]
  },
  {
   "cell_type": "code",
   "execution_count": 23,
   "id": "5532fa7c-d0aa-47a1-94f4-f2e4f057b11b",
   "metadata": {},
   "outputs": [
    {
     "name": "stdout",
     "output_type": "stream",
     "text": [
      "Epoch 1/10, Loss: 0.0002\n",
      "Epoch 2/10, Loss: 0.0000\n",
      "Epoch 3/10, Loss: 0.0000\n",
      "Epoch 4/10, Loss: 0.0000\n",
      "Epoch 5/10, Loss: 0.0000\n",
      "Epoch 6/10, Loss: 0.0000\n",
      "Epoch 7/10, Loss: 0.0000\n",
      "Epoch 8/10, Loss: 0.0000\n",
      "Epoch 9/10, Loss: 0.0000\n",
      "Epoch 10/10, Loss: 0.0000\n",
      "Training finished!\n"
     ]
    }
   ],
   "source": [
    "    # Training loop\n",
    "    num_epochs = 10\n",
    "    for epoch in range(num_epochs):\n",
    "        model.train()\n",
    "        running_loss = 0.0\n",
    "        for inputs, targets in train_dataloader:\n",
    "    \n",
    "            inputs, targets = inputs.to(device), targets.to(device)\n",
    "            \n",
    "            optimizer.zero_grad()\n",
    "            outputs = model(inputs)\n",
    "            loss = criterion(outputs.squeeze(), targets)\n",
    "            loss.backward()\n",
    "            optimizer.step()\n",
    "            running_loss += loss.item()\n",
    "        \n",
    "        print(f'Epoch {epoch + 1}/{num_epochs}, Loss: {running_loss / len(train_dataloader):.4f}')\n",
    "    \n",
    "    print('Training finished!')"
   ]
  },
  {
   "cell_type": "code",
   "execution_count": 24,
   "id": "0bdc36f0-13c1-49e8-82d4-fbb572112196",
   "metadata": {},
   "outputs": [
    {
     "name": "stdout",
     "output_type": "stream",
     "text": [
      "Test Loss: 0.0000\n"
     ]
    }
   ],
   "source": [
    "    # Evaluation\n",
    "    model.eval()\n",
    "    test_loss = 0.0\n",
    "    with torch.no_grad():\n",
    "        for inputs, targets in test_dataloader:\n",
    "    \n",
    "            inputs, targets = inputs.to(device), targets.to(device)\n",
    "            outputs = model(inputs)\n",
    "            test_loss += criterion(outputs.squeeze(), targets).item()\n",
    "    test_loss /= len(test_dataloader)\n",
    "    print(f'Test Loss: {test_loss:.4f}')"
   ]
  },
  {
   "cell_type": "code",
   "execution_count": 25,
   "id": "c41b2a43-e784-4d88-9e0b-d99b98c4034c",
   "metadata": {},
   "outputs": [
    {
     "name": "stdout",
     "output_type": "stream",
     "text": [
      "Saved PyTorch Model State to pendulum_trained.pth\n"
     ]
    }
   ],
   "source": [
    "    torch.save(model.state_dict(), '../models/'+'pendulum_trained_resnet_near90deg.pth')\n",
    "    print(\"Saved PyTorch Model State to pendulum_trained.pth\")"
   ]
  },
  {
   "cell_type": "code",
   "execution_count": null,
   "id": "76aecfe0-534a-4629-97fb-cfd4ee961c54",
   "metadata": {},
   "outputs": [],
   "source": []
  },
  {
   "cell_type": "code",
   "execution_count": null,
   "id": "9022cab0-5735-4906-b479-787741c7b023",
   "metadata": {},
   "outputs": [],
   "source": []
  }
 ],
 "metadata": {
  "kernelspec": {
   "display_name": "Python 3 (ipykernel)",
   "language": "python",
   "name": "python3"
  },
  "language_info": {
   "codemirror_mode": {
    "name": "ipython",
    "version": 3
   },
   "file_extension": ".py",
   "mimetype": "text/x-python",
   "name": "python",
   "nbconvert_exporter": "python",
   "pygments_lexer": "ipython3",
   "version": "3.8.16"
  }
 },
 "nbformat": 4,
 "nbformat_minor": 5
}
