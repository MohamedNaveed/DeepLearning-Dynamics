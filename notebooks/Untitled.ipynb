{
 "cells": [
  {
   "cell_type": "code",
   "execution_count": null,
   "id": "86569565-f873-4b96-8662-41441398e434",
   "metadata": {},
   "outputs": [],
   "source": [
    "import torch \n",
    "from torch import nn\n",
    "from torch.utils.data import DataLoader\n",
    "from torchvision import datasets\n",
    "from torchvision.transforms import ToTensor"
   ]
  },
  {
   "cell_type": "code",
   "execution_count": null,
   "id": "71fa6fff-e10f-4f20-97ed-2b799c81268b",
   "metadata": {},
   "outputs": [],
   "source": [
    "\n",
    "def RK4(odefunc,x0,t0,h):\n",
    "\n",
    "    k1 = h*odefunc(x0,t0)\n",
    "    k2 = h*odefunc(x0 + k1/2, t0 + h/2)\n",
    "    k3 = h*odefunc(x0 + k2/2, t0 + h/2)\n",
    "    k4 = h*odefunc(x0 + k3, t0 + h)\n",
    "\n",
    "    x = x0 + (k1 + 2*k2 + 2*k3 + k4)/6\n",
    "\n",
    "    return x\n",
    "    \n",
    "class pendulum():\n",
    "    def pendulum_ode():\n",
    "        \n",
    "    def simulate_pendulum_data():\n",
    "    "
   ]
  }
 ],
 "metadata": {
  "kernelspec": {
   "display_name": "Python 3 (ipykernel)",
   "language": "python",
   "name": "python3"
  },
  "language_info": {
   "codemirror_mode": {
    "name": "ipython",
    "version": 3
   },
   "file_extension": ".py",
   "mimetype": "text/x-python",
   "name": "python",
   "nbconvert_exporter": "python",
   "pygments_lexer": "ipython3",
   "version": "3.10.12"
  }
 },
 "nbformat": 4,
 "nbformat_minor": 5
}
