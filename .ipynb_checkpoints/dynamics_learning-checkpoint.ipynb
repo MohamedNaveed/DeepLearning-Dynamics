{
 "cells": [
  {
   "cell_type": "code",
   "execution_count": 94,
   "id": "86569565-f873-4b96-8662-41441398e434",
   "metadata": {},
   "outputs": [],
   "source": [
    "import torch \n",
    "from torch import nn\n",
    "from torch.utils.data import DataLoader, TensorDataset\n",
    "from torchvision import datasets\n",
    "from torchvision.transforms import ToTensor\n",
    "\n",
    "import pandas as pd\n",
    "from sklearn.model_selection import train_test_split"
   ]
  },
  {
   "cell_type": "code",
   "execution_count": 95,
   "id": "87971faa-caf6-4584-ac80-9f34911a4d92",
   "metadata": {},
   "outputs": [
    {
     "name": "stdout",
     "output_type": "stream",
     "text": [
      "Using cuda device\n"
     ]
    }
   ],
   "source": [
    "device = (\"cuda\"\n",
    "        if torch.cuda.is_available()\n",
    "        else \"mps\"\n",
    "        if torch.backends.mps.is_available()\n",
    "        else \"cpu\")\n",
    "\n",
    "print(f\"Using {device} device\")"
   ]
  },
  {
   "cell_type": "code",
   "execution_count": 96,
   "id": "d70fd0c5-3a11-42b2-bada-b78a31574ea6",
   "metadata": {},
   "outputs": [
    {
     "name": "stdout",
     "output_type": "stream",
     "text": [
      "NeuralNetwork(\n",
      "  (flatten): Flatten(start_dim=1, end_dim=-1)\n",
      "  (linear_relu_stack): Sequential(\n",
      "    (0): Linear(in_features=2, out_features=512, bias=True)\n",
      "    (1): ReLU()\n",
      "    (2): Linear(in_features=512, out_features=512, bias=True)\n",
      "    (3): ReLU()\n",
      "    (4): Linear(in_features=512, out_features=2, bias=True)\n",
      "  )\n",
      ")\n"
     ]
    }
   ],
   "source": [
    "# Define model\n",
    "class NeuralNetwork(nn.Module):\n",
    "    def __init__(self):\n",
    "        super().__init__()\n",
    "        self.flatten = nn.Flatten()\n",
    "        self.linear_relu_stack = nn.Sequential(\n",
    "            nn.Linear(2, 512),\n",
    "            nn.ReLU(),\n",
    "            nn.Linear(512, 512),\n",
    "            nn.ReLU(),\n",
    "            nn.Linear(512, 2)\n",
    "        )\n",
    "\n",
    "    def forward(self, x):\n",
    "        x = self.flatten(x)\n",
    "        logits = self.linear_relu_stack(x)\n",
    "        return logits\n",
    "\n",
    "model = NeuralNetwork().to(device)\n",
    "print(model)"
   ]
  },
  {
   "cell_type": "code",
   "execution_count": 97,
   "id": "0e7cd3b6-d5a4-44a3-b2b3-cedc2c9dfda4",
   "metadata": {},
   "outputs": [
    {
     "name": "stdout",
     "output_type": "stream",
     "text": [
      "   Pendulum Angle (rad)  Angular Velocity (rad/s)  Pendulum Angle next (rad)  \\\n",
      "0              1.570796                      0.00                   1.570746   \n",
      "1              1.570746                     -0.01                   1.570596   \n",
      "2              1.570596                     -0.02                   1.570346   \n",
      "3              1.570346                     -0.03                   1.569996   \n",
      "4              1.569996                     -0.04                   1.569546   \n",
      "\n",
      "   Angular Velocity next (rad/s)  \n",
      "0                          -0.01  \n",
      "1                          -0.02  \n",
      "2                          -0.03  \n",
      "3                          -0.04  \n",
      "4                          -0.05  \n"
     ]
    }
   ],
   "source": [
    "if __name__ == \"__main__\":\n",
    "    data = pd.read_csv('data/pendulum_initialconditions_near_90deg_traindata.csv')\n",
    "    dim = 2\n",
    "    print(data.head()) "
   ]
  },
  {
   "cell_type": "code",
   "execution_count": 98,
   "id": "ebf352a3-6bf7-4cbe-bc07-5c0a403aa09e",
   "metadata": {},
   "outputs": [
    {
     "name": "stdout",
     "output_type": "stream",
     "text": [
      "[1.57079633 0.        ] [ 1.57074633 -0.01      ]\n"
     ]
    }
   ],
   "source": [
    "    # Extract input features (X) and target labels (y)\n",
    "    X = data[['Pendulum Angle (rad)', 'Angular Velocity (rad/s)']].values  # Input features\n",
    "    y = data[['Pendulum Angle next (rad)', 'Angular Velocity next (rad/s)']].values  # Target labels\n",
    "    \n",
    "    print(X[0],y[0])"
   ]
  },
  {
   "cell_type": "code",
   "execution_count": 99,
   "id": "61efd1e1-a64b-427b-ba56-3671716fec4d",
   "metadata": {},
   "outputs": [
    {
     "name": "stdout",
     "output_type": "stream",
     "text": [
      "Size of training =  799\n",
      "Size of testing =  200\n"
     ]
    }
   ],
   "source": [
    "    # Split the data into training and testing sets (80% train, 20% test)\n",
    "    X_train, X_test, y_train, y_test = train_test_split(X, y, test_size=0.2, random_state=42)\n",
    "    print('Size of training = ', X_train.shape[0]);\n",
    "    print('Size of testing = ', X_test.shape[0]);"
   ]
  },
  {
   "cell_type": "code",
   "execution_count": 100,
   "id": "c54df9a9-088e-4cde-a703-c0c2b411b690",
   "metadata": {},
   "outputs": [],
   "source": [
    "    # Convert NumPy arrays to PyTorch tensors\n",
    "    X_train_tensor = torch.tensor(X_train, dtype=torch.float32)\n",
    "    y_train_tensor = torch.tensor(y_train, dtype=torch.float32)\n",
    "    X_test_tensor = torch.tensor(X_test, dtype=torch.float32)\n",
    "    y_test_tensor = torch.tensor(y_test, dtype=torch.float32)\n"
   ]
  },
  {
   "cell_type": "code",
   "execution_count": 101,
   "id": "324ed880-62b0-42ee-a2b1-3a017dd74869",
   "metadata": {},
   "outputs": [],
   "source": [
    "    # Create PyTorch datasets and dataloaders\n",
    "    train_dataset = TensorDataset(X_train_tensor, y_train_tensor)\n",
    "    train_dataloader = DataLoader(train_dataset, batch_size=32, shuffle=True)\n",
    "    test_dataset = TensorDataset(X_test_tensor, y_test_tensor)\n",
    "    test_dataloader = DataLoader(test_dataset, batch_size=32, shuffle=False)"
   ]
  },
  {
   "cell_type": "code",
   "execution_count": 102,
   "id": "341061c1-5fd8-4f80-a059-bd4e9913642b",
   "metadata": {},
   "outputs": [],
   "source": [
    "    criterion = nn.MSELoss()\n",
    "    optimizer = torch.optim.Adam(model.parameters(), lr=0.001)"
   ]
  },
  {
   "cell_type": "code",
   "execution_count": 103,
   "id": "5532fa7c-d0aa-47a1-94f4-f2e4f057b11b",
   "metadata": {},
   "outputs": [
    {
     "name": "stdout",
     "output_type": "stream",
     "text": [
      "Epoch 1/50, Loss: 0.1007\n",
      "Epoch 2/50, Loss: 0.0040\n",
      "Epoch 3/50, Loss: 0.0005\n",
      "Epoch 4/50, Loss: 0.0001\n",
      "Epoch 5/50, Loss: 0.0000\n",
      "Epoch 6/50, Loss: 0.0000\n",
      "Epoch 7/50, Loss: 0.0000\n",
      "Epoch 8/50, Loss: 0.0000\n",
      "Epoch 9/50, Loss: 0.0000\n",
      "Epoch 10/50, Loss: 0.0000\n",
      "Epoch 11/50, Loss: 0.0000\n",
      "Epoch 12/50, Loss: 0.0000\n",
      "Epoch 13/50, Loss: 0.0000\n",
      "Epoch 14/50, Loss: 0.0000\n",
      "Epoch 15/50, Loss: 0.0000\n",
      "Epoch 16/50, Loss: 0.0000\n",
      "Epoch 17/50, Loss: 0.0000\n",
      "Epoch 18/50, Loss: 0.0000\n",
      "Epoch 19/50, Loss: 0.0000\n",
      "Epoch 20/50, Loss: 0.0000\n",
      "Epoch 21/50, Loss: 0.0000\n",
      "Epoch 22/50, Loss: 0.0000\n",
      "Epoch 23/50, Loss: 0.0000\n",
      "Epoch 24/50, Loss: 0.0000\n",
      "Epoch 25/50, Loss: 0.0000\n",
      "Epoch 26/50, Loss: 0.0000\n",
      "Epoch 27/50, Loss: 0.0000\n",
      "Epoch 28/50, Loss: 0.0000\n",
      "Epoch 29/50, Loss: 0.0000\n",
      "Epoch 30/50, Loss: 0.0000\n",
      "Epoch 31/50, Loss: 0.0000\n",
      "Epoch 32/50, Loss: 0.0000\n",
      "Epoch 33/50, Loss: 0.0000\n",
      "Epoch 34/50, Loss: 0.0000\n",
      "Epoch 35/50, Loss: 0.0000\n",
      "Epoch 36/50, Loss: 0.0000\n",
      "Epoch 37/50, Loss: 0.0000\n",
      "Epoch 38/50, Loss: 0.0000\n",
      "Epoch 39/50, Loss: 0.0000\n",
      "Epoch 40/50, Loss: 0.0000\n",
      "Epoch 41/50, Loss: 0.0000\n",
      "Epoch 42/50, Loss: 0.0000\n",
      "Epoch 43/50, Loss: 0.0000\n",
      "Epoch 44/50, Loss: 0.0000\n",
      "Epoch 45/50, Loss: 0.0000\n",
      "Epoch 46/50, Loss: 0.0000\n",
      "Epoch 47/50, Loss: 0.0000\n",
      "Epoch 48/50, Loss: 0.0000\n",
      "Epoch 49/50, Loss: 0.0000\n",
      "Epoch 50/50, Loss: 0.0000\n",
      "Training finished!\n"
     ]
    }
   ],
   "source": [
    "    # Training loop\n",
    "    num_epochs = 50\n",
    "    for epoch in range(num_epochs):\n",
    "        model.train()\n",
    "        running_loss = 0.0\n",
    "        for inputs, targets in train_dataloader:\n",
    "    \n",
    "            inputs, targets = inputs.to(device), targets.to(device)\n",
    "            \n",
    "            optimizer.zero_grad()\n",
    "            outputs = model(inputs)\n",
    "            loss = criterion(outputs.squeeze(), targets)\n",
    "            loss.backward()\n",
    "            optimizer.step()\n",
    "            running_loss += loss.item()\n",
    "        \n",
    "        print(f'Epoch {epoch + 1}/{num_epochs}, Loss: {running_loss / len(train_dataloader):.4f}')\n",
    "    \n",
    "    print('Training finished!')"
   ]
  },
  {
   "cell_type": "code",
   "execution_count": 104,
   "id": "0bdc36f0-13c1-49e8-82d4-fbb572112196",
   "metadata": {},
   "outputs": [
    {
     "name": "stdout",
     "output_type": "stream",
     "text": [
      "Test Loss: 0.0000\n"
     ]
    }
   ],
   "source": [
    "    # Evaluation\n",
    "    model.eval()\n",
    "    test_loss = 0.0\n",
    "    with torch.no_grad():\n",
    "        for inputs, targets in test_dataloader:\n",
    "    \n",
    "            inputs, targets = inputs.to(device), targets.to(device)\n",
    "            outputs = model(inputs)\n",
    "            test_loss += criterion(outputs.squeeze(), targets).item()\n",
    "    test_loss /= len(test_dataloader)\n",
    "    print(f'Test Loss: {test_loss:.4f}')"
   ]
  },
  {
   "cell_type": "code",
   "execution_count": 105,
   "id": "c41b2a43-e784-4d88-9e0b-d99b98c4034c",
   "metadata": {},
   "outputs": [
    {
     "name": "stdout",
     "output_type": "stream",
     "text": [
      "Saved PyTorch Model State to pendulum_trained.pth\n"
     ]
    }
   ],
   "source": [
    "    torch.save(model.state_dict(), \"pendulum_trained_near90deg.pth\")\n",
    "    print(\"Saved PyTorch Model State to pendulum_trained.pth\")"
   ]
  },
  {
   "cell_type": "code",
   "execution_count": null,
   "id": "c030766d-97a3-403a-b1bb-203baed4c714",
   "metadata": {},
   "outputs": [],
   "source": []
  }
 ],
 "metadata": {
  "kernelspec": {
   "display_name": "Python 3 (ipykernel)",
   "language": "python",
   "name": "python3"
  },
  "language_info": {
   "codemirror_mode": {
    "name": "ipython",
    "version": 3
   },
   "file_extension": ".py",
   "mimetype": "text/x-python",
   "name": "python",
   "nbconvert_exporter": "python",
   "pygments_lexer": "ipython3",
   "version": "3.10.12"
  }
 },
 "nbformat": 4,
 "nbformat_minor": 5
}
